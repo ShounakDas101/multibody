{
  "nbformat": 4,
  "nbformat_minor": 0,
  "metadata": {
    "colab": {
      "provenance": [],
      "authorship_tag": "ABX9TyOvEI/tVxqKt7KBVok2DtUz",
      "include_colab_link": true
    },
    "kernelspec": {
      "name": "python3",
      "display_name": "Python 3"
    },
    "language_info": {
      "name": "python"
    }
  },
  "cells": [
    {
      "cell_type": "markdown",
      "metadata": {
        "id": "view-in-github",
        "colab_type": "text"
      },
      "source": [
        "<a href=\"https://colab.research.google.com/github/ShounakDas101/multibody/blob/main/IEEE_Cognition.ipynb\" target=\"_parent\"><img src=\"https://colab.research.google.com/assets/colab-badge.svg\" alt=\"Open In Colab\"/></a>"
      ]
    },
    {
      "cell_type": "code",
      "execution_count": null,
      "metadata": {
        "id": "PILN_5yoDmAf"
      },
      "outputs": [],
      "source": [
        "import math\n",
        "import numpy as np\n",
        "import matplotlib.pyplot as plt\n",
        "from scipy.integrate import odeint\n",
        "import random as rnd"
      ]
    },
    {
      "cell_type": "code",
      "source": [
        "I=1.0\n",
        "a=5.0\n",
        "b=0.5\n",
        "c=0.6\n",
        "f=0.3  # it should be a fraction\n",
        "w2=a/I # it is actually square of angular frequency\n",
        "\n",
        "\n",
        "\n",
        "N=8 # No of anaisotropy in the potential well = 1+N/2\n",
        "k=1.38 # boltzmann constant, actual value is 1.380649E-23 Joules/Kelin\n",
        "T=20    # actual value 300K (at room temp)\n",
        "KE=0.5*I*w2\n",
        "U = 15\n",
        "Amp = 1.3"
      ],
      "metadata": {
        "id": "JcmqURF_D4Bc"
      },
      "execution_count": null,
      "outputs": []
    },
    {
      "cell_type": "code",
      "source": [
        "def coupled_osc(x, t):\n",
        "    if   x[0] > 0.5*np.pi:\n",
        "        x[0]=0.5*np.pi - x[0] # oscillate between -pi/2 to +pi/2\n",
        "    elif x[0]< -0.5*np.pi:\n",
        "        x[0]=x[0] - 0.5*np.pi # oscillate between -pi/2 to +pi/2\n",
        "\n",
        "    return  [x[1], -a*np.sin(x[0]) -b*x[1]  - f*a*np.sin(N*x[0])]"
      ],
      "metadata": {
        "id": "9-KYOoF-Du2T"
      },
      "execution_count": null,
      "outputs": []
    },
    {
      "cell_type": "code",
      "source": [
        "\n",
        "def flip_osc(x, t):\n",
        "    if   x[0] > 0.5*np.pi:\n",
        "        x[0]=0.5*np.pi - x[0] # oscillate between -pi/2 to +pi/2\n",
        "    elif x[0]< -0.5*np.pi:\n",
        "        x[0]=x[0] - 0.5*np.pi # oscillate between -pi/2 to +pi/2\n",
        "    return  [x[1], -a*np.sin(x[0]) -b*x[1] - f*a*np.sin(N*x[0]) + c*np.sin(x[0])]\n",
        ""
      ],
      "metadata": {
        "id": "0kPcapqFD-pA"
      },
      "execution_count": null,
      "outputs": []
    },
    {
      "cell_type": "code",
      "source": [
        "# Mind Potential Equation biased because of  various brands in the market\n",
        "omega_square=a/I\n",
        "t = np.arange(-np.pi/2,np.pi/2,0.05)   # start,stop,step\n",
        "t_max=np.pi/2\n",
        "# New Potential\n",
        "H0 = U + a*(1-np.cos(t))\n",
        "H1 = U + a*(1-np.cos(t)) + f*a*(1-np.cos(N*t))\n",
        "H2 = U + a*(1-np.cos(t)) + f*a*(1-np.cos(N*t)) - 0.5*b*omega_square\n",
        "H3 = U + a*(1-np.cos(t)) + f*a*(1-np.cos(N*t)) - 0.5*b*omega_square + c*np.cos(t)"
      ],
      "metadata": {
        "id": "pXvATr6LEIx7"
      },
      "execution_count": null,
      "outputs": []
    },
    {
      "cell_type": "code",
      "source": [
        "\n",
        "# A plot of the fluid height (position) inside the straw as a function of time.\n",
        "#plt.plot(t,y)\n",
        "# plt.show()\n",
        "plt.title(\"Potential Well at different situation\")\n",
        "plt.margins(x=0, y=0)\n",
        "plt.ticklabel_format(style='plain', axis='x')\n",
        "plt.plot(t*180/np.pi, H0, t*180/np.pi, H1, t*180/np.pi, H2, t*180/np.pi, H3, 'black', linewidth = 1)\n",
        "plt.xlabel('State of Mind (theta)')\n",
        "plt.ylabel('Free Energy well (H)')\n",
        "plt.legend(['Normal Mind', 'Biased Mind', 'Resistive Biased Mind', 'External iInfluenced Mind'])\n",
        "plt.grid(True)"
      ],
      "metadata": {
        "id": "BwhcGITZEM4_"
      },
      "execution_count": null,
      "outputs": []
    },
    {
      "cell_type": "code",
      "source": [
        "# Next, we create an array of the desired times for the solution.\n",
        "no_of_samples = 12000\n",
        "tou_0=100\n",
        "delay =5\n",
        "# Create an empty NumPy array of zeros\n",
        "time_array = np.zeros(no_of_samples)\n",
        "posi_array = np.zeros(no_of_samples)  # displacement or position\n",
        "velo_array = np.zeros(no_of_samples)  # velocity\n",
        "enrg_array = np.zeros(no_of_samples)  # energy\n",
        "mean_array = np.zeros(no_of_samples)  # mean enegy\n",
        "tou_array  = np.ones(no_of_samples)  # tou\n",
        "my_time = [0,1e-2] # odeint takes time in terms of array only, h=t1-t0\n",
        "theta = 0.5*np.pi/2\n",
        "omega =0\n",
        "init_value =[theta, omega] # odeint takes init_value in terms of array only\n",
        "for i in range(0,no_of_samples,1):\n",
        "\n",
        "    #tou_array[i] = tou_0*np.exp(enrg_array[i]/300)\n",
        "    # Calculate the average of the last 150 elements\n",
        "    if i<1500:\n",
        "        mean_array[i] = enrg_array[i]\n",
        "    else :\n",
        "        mean_array[i] = np.mean(enrg_array[i-1500:i])\n",
        "    # check tou\n",
        "    if  15.0 tou_0 > 0     :  # here condition should be mean_array[i]/kT <1\n",
        "            #tou_array[i] = tou_0*np.exp(mean_array[i]/300)\n",
        "            #c = 0.321       #2*rnd.random()\n",
        "\n",
        "            # Now calculate the free energy Hi\n",
        "            enrg_array[i]= U + 0.5*I*omega*omega + a*(1-np.cos(theta))+ f*a*(1-np.cos(N*theta))- 0.5*b*omega*omega + c*np.cos(theta)\n",
        "\n",
        "            #omega1=omega + c*np.sin(theta)*1e-2/I-b\n",
        "            #theta1=theta + omega*1e-2\n",
        "            #omega1 =  np.sqrt(2*c*np.cos(theta)/(I-b) + omega*omega) # energy injected to the system is converted to KE in the system\n",
        "            #theta1 = theta + omega*1e-2\n",
        "            #init_value =[theta, omega]\n",
        "            solution = odeint(flip_osc, init_value, my_time)\n",
        "            posi_array[i]=solution[1,0]\n",
        "            velo_array[i]=solution[1,1]\n",
        "            theta=posi_array[i]\n",
        "            omega=velo_array[i]\n",
        "            init_value=[theta, omega]\n",
        "\n",
        "            tou_0 = tou_0 -1\n",
        "            #print(\"flip\",tou_array[i])\n",
        "    else:\n",
        "            # Now calculate the free energy Hi\n",
        "            #tou_array[i] = tou_0*np.exp(mean_array[i]/300)\n",
        "            enrg_array[i]=U + 0.5*I*omega*omega + a*(1-np.cos(theta))+ f*a*(1-np.cos(N*theta))- 0.5*b*omega*omega\n",
        "            solution = odeint(coupled_osc, init_value, my_time)\n",
        "            posi_array[i]=solution[1,0]\n",
        "            velo_array[i]=solution[1,1]\n",
        "            theta=posi_array[i]\n",
        "            omega=velo_array[i]\n",
        "            init_value=[theta, omega]\n",
        "\n",
        "            tou_0 = delay\n",
        "            #print(\"coupled\" , tou_array[i])\n",
        "\n",
        "    time_array[i]=i*1e-2\n",
        "\n",
        "\n",
        "    #print (last_five_average,theta,omega)\n"
      ],
      "metadata": {
        "id": "xo0sZ3LaEQMv"
      },
      "execution_count": null,
      "outputs": []
    },
    {
      "cell_type": "code",
      "source": [
        "\n",
        "from matplotlib import colors\n",
        "fig, ax1 = plt.subplots()\n",
        "\n",
        "color = 'tab:red'\n",
        "ax1.set_xlabel('time (msec)')\n",
        "ax1.set_ylabel('angular displacement and velocity', color=color)\n",
        "ax1.plot(time_array, posi_array, time_array, mean_array,  'orange', linewidth = 0.5)\n",
        "ax1.tick_params(axis='y', labelcolor=color)\n",
        "ax1.legend(['Position', 'Velocity'])\n",
        "ax2 = ax1.twinx()  # instantiate a second axes that shares the same x-axis\n",
        "\n",
        "color = 'tab:blue'\n",
        "ax2.set_ylabel('Energy', color='black')  # we already handled the x-label with ax1\n",
        "ax2.plot(time_array, enrg_array, color='black')\n",
        "ax2.tick_params(axis='y', labelcolor='black')\n",
        "#ax2.legend(['Energy'])\n",
        "fig.tight_layout()  # otherwise the right y-label is slightly clipped\n",
        "plt.show()\n",
        ""
      ],
      "metadata": {
        "id": "aB9wf-DgEZRh"
      },
      "execution_count": null,
      "outputs": []
    },
    {
      "cell_type": "code",
      "source": [
        "\n",
        "# A plot of the fluid height (position) inside the straw as a function of time.\n",
        "plt.plot(time_array[100:12000], 180*posi_array[100:12000]/np.pi,'red', linewidth = 1)\n",
        "plt.xlabel('time (s)')\n",
        "plt.ylabel('posi_array (theta)')\n",
        "plt.ticklabel_format(style='plain', axis='x', scilimits=(0,0))\n",
        "plt.grid(True)"
      ],
      "metadata": {
        "id": "PkSpzW_BEcTt"
      },
      "execution_count": null,
      "outputs": []
    },
    {
      "cell_type": "code",
      "source": [
        "# A plot of the fluid height (position) inside the straw as a function of time.\n",
        "plt.plot(time_array[2000:12000], mean_array[2000:12000],'red', linewidth = 1)\n",
        "plt.xlabel('time (s)')\n",
        "plt.ylabel('Mean energy (J)')\n",
        "plt.ticklabel_format(style='plain', axis='x', scilimits=(0,0))\n",
        "plt.grid(True)"
      ],
      "metadata": {
        "id": "3N_Ds0bHEdMF"
      },
      "execution_count": null,
      "outputs": []
    }
  ]
}